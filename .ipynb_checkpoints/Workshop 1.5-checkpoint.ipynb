{
 "cells": [
  {
   "cell_type": "markdown",
   "metadata": {},
   "source": [
    "# Workshop 1.5\n",
    "In this weeks mini-workshop, we are going to supplement our understanding of Python by introducing some more advanced concepts and going over some practice problems. The practice problems at the end of the workshop will first introduce the problem and have an empty method signature for you to implmement the solution, and then show you a correct solution in both code and explained through text. We highly encourage you try to solve the practice problems yourself before peeking at the solutions. "
   ]
  },
  {
   "cell_type": "markdown",
   "metadata": {},
   "source": [
    "## Python Classes\n",
    "### Defining a class\n",
    "Python, like Java or C++,can be considered an object-oriented language. Object-oriented programming is a programming paradigm that focuses on designing code through defining objects within classes. Classes would contain data (stored values) and methods (blocks of code that can be called to do stuff). \n",
    "\n",
    "Consider defining a student class in Python. Which data and methods would we include? Perhaps we feel it is important for students to keep track of their grades, so we will create variables representing their GPA earned in each class. Also, let's say it is important for students to be able to produce a transcript. We will include a method which prints a transcript for the student based on their grades. If we want to calculate an average when producing the transcript, we can include a method for that, too.\n",
    "\n",
    "Below is the above class defined in Python. Let's look at the code first. Then, we will discuss the important steps in defining a class."
   ]
  },
  {
   "cell_type": "code",
   "execution_count": null,
   "metadata": {},
   "outputs": [],
   "source": [
    "class Student:\n",
    "    school = \"University of Georgia\"\n",
    "    \n",
    "    def __init__(self, math, history, english, spanish):\n",
    "        self.math = math\n",
    "        self.history = history\n",
    "        self.english = english\n",
    "        self.spanish = spanish\n",
    "    \n",
    "    def average(grades):\n",
    "        total = 0\n",
    "        for grade in grades:\n",
    "            total += grade\n",
    "        return total / len(grades)\n",
    "    \n",
    "    def transcript(self):\n",
    "        print(\"Grade in math is: \" + str(self.math))\n",
    "        print(\"Grade in history is: \" + str(self.history))\n",
    "        print(\"Grade in english is: \" + str(self.english))\n",
    "        print(\"Grade in spanish is: \" + str(self.spanish))\n",
    "        gpa = Student.average([self.math, self.history, self.english, self.spanish])\n",
    "        print(\"Overall GPA: \" + str(gpa))"
   ]
  },
  {
   "cell_type": "markdown",
   "metadata": {},
   "source": [
    "### Instantiating a Class\n",
    "To create an instance (instantiate) this class, we call the name of the class `Student` as a function. This actually runs the function `__init__` that we defined earlier, called the constructor. One thing to note is that when calling the function we ignore the `self` argument. That stands for the object itself, and is included in all _instance methods_. The methods that don't take self as an argument by comparison are called _static methods_. We call instance methods by first writing an instance of our class (any variable of type `Student`), then a `.`, then the function name. To call static methods, we write the class name instead of the instance."
   ]
  },
  {
   "cell_type": "code",
   "execution_count": null,
   "metadata": {
    "scrolled": false
   },
   "outputs": [],
   "source": [
    "#Instantiate a `Student` with the constructor\n",
    "quinn = Student(4.0, 1.0, 3.0, 2.0)\n",
    "print(type(quinn))\n",
    "\n",
    "#Access the attributes of this object with this syntax\n",
    "print(quinn.school)\n",
    "print(quinn.math)\n",
    "#And call functions on this object like this!\n",
    "quinn.transcript()\n",
    "\n",
    "#We can use methods without the `self` variable without calling them on an object\n",
    "print(Student.average([10, 20, 30, 40]))"
   ]
  },
  {
   "cell_type": "markdown",
   "metadata": {},
   "source": [
    "### Inheritance\n",
    "If we want to make a specific type of `Student` with more functionality we can make a subclass. The `CS_Major` class _inherits_ all the methods from `Student` and overrides some of them with its own implementation. If we have overridden a method, but we still want to access the one from the parent class, we can do so with the `super` function. We do this most often when creating a constructor for a subclass."
   ]
  },
  {
   "cell_type": "code",
   "execution_count": null,
   "metadata": {},
   "outputs": [],
   "source": [
    "class CS_Major(Student):\n",
    "    def __init__(self, math, history, english, spanish, cs):\n",
    "        super().__init__(math, history, english, spanish)\n",
    "        self.cs = cs\n",
    "        \n",
    "    def transcript(self):\n",
    "        print(\"Grade in math is: \" + str(self.math))\n",
    "        print(\"Grade in history is: \" + str(self.history))\n",
    "        print(\"Grade in english is: \" + str(self.english))\n",
    "        print(\"Grade in spanish is: \" + str(self.spanish))\n",
    "        print(\"Grade in cs is: \" + str(self.cs))\n",
    "        gpa = CS_Major.average([self.math, self.history, self.english, self.spanish, self.cs])\n",
    "        print(\"Overall GPA: \" + str(gpa))\n",
    "    \n",
    "meekail = CS_Major(3.0, 2.5, 1.0, 3.5, 3.5)\n",
    "meekail.transcript()"
   ]
  },
  {
   "cell_type": "markdown",
   "metadata": {},
   "source": [
    "## List Comprehensions\n",
    "One useful piece of syntax in Python is a list comprehension. It takes a `for` loop and condenses it into one line!"
   ]
  },
  {
   "cell_type": "code",
   "execution_count": null,
   "metadata": {},
   "outputs": [],
   "source": [
    "print([x ** 2 for x in range(10)])\n",
    "\n",
    "words = [\"Deep\", \"Learning\", \"@\", \"UGA\"]\n",
    "lengths = [len(word) for word in words]\n",
    "acronym = [word[0] for word in words]\n",
    "print(length)\n",
    "print(str(acronym))"
   ]
  },
  {
   "cell_type": "markdown",
   "metadata": {},
   "source": [
    "We can also write dictionaries in this concise way."
   ]
  },
  {
   "cell_type": "code",
   "execution_count": 1,
   "metadata": {},
   "outputs": [
    {
     "name": "stdout",
     "output_type": "stream",
     "text": [
      "two\n"
     ]
    }
   ],
   "source": [
    "numbers = [0, 1, 1.41421, 2, 2.71828, 3, 3.14159]\n",
    "names = [\"zero\", \"one\", \"square root of two\", \"two\", \"e\", \"three\", \"pi\"]\n",
    "d = {numbers[i] : names[i] for i in range(7)}\n",
    "print(d[2])"
   ]
  },
  {
   "cell_type": "markdown",
   "metadata": {},
   "source": [
    "## Useful Functions\n",
    "Consult the documentation if you have a simple problem you think may have been solved already! Python generously provides a lot of very helpful built in functions in addition to the ones we have mentioned. (Check out `enumerate` and `zip`, they come in handy often)\n",
    "\n",
    "https://docs.python.org/3.8/library/functions.html\n",
    "\n",
    "\n",
    "This set of functions has lots of instance methods for strings.\n",
    "\n",
    "https://docs.python.org/3.8/library/stdtypes.html#string-methods"
   ]
  },
  {
   "cell_type": "markdown",
   "metadata": {},
   "source": [
    "## Practice Problems\n",
    "### Problem 1: Odd or Even\n",
    "The function will take in a number called x. Return the string \"even\" if the number is even and return the string \"odd\" if the number is odd."
   ]
  },
  {
   "cell_type": "code",
   "execution_count": null,
   "metadata": {},
   "outputs": [],
   "source": [
    "def OddOrEven(x):\n",
    "    # Your code here\n",
    "    pass # This line is just a place holder\n",
    "\n",
    "# Some practice cases are found below\n",
    "print(OddOrEven(1)) # Should print \"Odd\"\n",
    "print(OddOrEven(2)) # Should print \"Even\"\n",
    "print(OddOrEven(25)) # Should print \"Odd\""
   ]
  },
  {
   "cell_type": "markdown",
   "metadata": {},
   "source": [
    "Below we have defined a possible solution for this problem. We know if and only if x is an even number, x % 2 = 0. This means if x % 2 is not equal to zero, x is definitely an odd number."
   ]
  },
  {
   "cell_type": "code",
   "execution_count": null,
   "metadata": {},
   "outputs": [],
   "source": [
    "def OddOrEvenSolution(x):\n",
    "    if (x % 2 == 0):\n",
    "        return \"Even\"\n",
    "    return \"Odd\""
   ]
  },
  {
   "cell_type": "markdown",
   "metadata": {},
   "source": [
    "### Problem 2: List Less than 10\n",
    "The function will take in a list called a, say for example this one: `a = [1, 1, 2, 3, 5, 8, 13, 21, 34, 55, 89]`.\n",
    "Write a program that prints out all the elements of the list that are less than 5."
   ]
  },
  {
   "cell_type": "code",
   "execution_count": null,
   "metadata": {},
   "outputs": [],
   "source": [
    "def LessThanTen(a):\n",
    "    # Your code here\n",
    "    pass # This line is just a place holder\n",
    "\n",
    "# Some practice cases are found below\n",
    "print(LessThanTen([1, 2, 3])) # Should print 1, then 2, then 3\n",
    "print(LessThanTen([1, 2, 10])) # Should print 1, then 2\n",
    "print(LessThanTen([12, 37, 99, 12])) # Should print nothing"
   ]
  },
  {
   "cell_type": "markdown",
   "metadata": {},
   "source": [
    "For our solution, we use a for loop to iterate through every element of `a`. Then for each element, we check if it is less than 10 using a for loop. If this is true, we print the element."
   ]
  },
  {
   "cell_type": "code",
   "execution_count": null,
   "metadata": {},
   "outputs": [],
   "source": [
    "def LessThanTenSolution(a):\n",
    "    for elem in a:\n",
    "        if elem < 10:\n",
    "            print(elem)"
   ]
  },
  {
   "cell_type": "markdown",
   "metadata": {},
   "source": [
    "### Problem 3: Reverse Word Order\n",
    "Write a function that prompts the user to enter a string, and then return the string with the words reversed. This problem uses the `input` function which prompts the user for input and stores it in a variable. The line\n",
    "\n",
    "`text = input(\"Prompt: \")`\n",
    "\n",
    "would display `Prompt: ` and store what the user wrote in response as a string in the `text` variable."
   ]
  },
  {
   "cell_type": "code",
   "execution_count": null,
   "metadata": {},
   "outputs": [],
   "source": [
    "def reverseOrder():\n",
    "    # Your code here\n",
    "    pass # This line is just a place holder\n",
    "\n",
    "# Some practice cases are found below\n",
    "reverseOrder() # Enter in \"Hello world\". You should see \"world Hello\" printed\n",
    "reverseOrder() # Enter in \"I love to code in python\". You should see \"python in code to love I\" printed "
   ]
  },
  {
   "cell_type": "markdown",
   "metadata": {},
   "source": [
    "The first step in our solution is to prompt the user for input. Then, the string is transformed into a list using Pythons `split` message and stores this list in the `input_words` variable. Lastly, `input_words` is reversed. Lastly, this reversed output is transformed into a string again using the `join` function. "
   ]
  },
  {
   "cell_type": "code",
   "execution_count": null,
   "metadata": {},
   "outputs": [],
   "source": [
    "def reverseOrderSolution():\n",
    "    s = input(\"Enter a string:\")\n",
    "    input_words = s.split(\" \")\n",
    "    input_words.reverse()\n",
    "    return \" \".join(input_words)\n"
   ]
  },
  {
   "cell_type": "markdown",
   "metadata": {},
   "source": [
    "### Problem 4: Draw a Game Board\n",
    "Draw a game board for a user of size n. This means that a grid is printed with n rows and n columns. The cell below shows what an example output should look like."
   ]
  },
  {
   "cell_type": "code",
   "execution_count": null,
   "metadata": {},
   "outputs": [],
   "source": [
    "def drawBoard(n):\n",
    "    # Your code here\n",
    "    pass # This line is just a place holder\n",
    "    \n",
    "# Some practice problems\n",
    "drawBoard(3) # Should print the following: \n",
    "\n",
    "board = '''\n",
    " --- --- --- \n",
    "|   |   |   |\n",
    " --- --- --- \n",
    "|   |   |   |\n",
    " --- --- --- \n",
    "|   |   |   |\n",
    " --- --- --- \n",
    "'''"
   ]
  },
  {
   "cell_type": "code",
   "execution_count": null,
   "metadata": {},
   "outputs": [],
   "source": [
    "def drawBoardSolution(n):\n",
    "    hor_line = (\" \" + (\"-\" * 3)) * n + \" \"\n",
    "    ver_line = (\"|\" + (\" \" * 3)) * n + \"|\"\n",
    "    for _ in range(n):\n",
    "        print(hor_line)\n",
    "        print(ver_line)\n",
    "    print(hor_line)"
   ]
  }
 ],
 "metadata": {
  "kernelspec": {
   "display_name": "Python 3",
   "language": "python",
   "name": "python3"
  },
  "language_info": {
   "codemirror_mode": {
    "name": "ipython",
    "version": 3
   },
   "file_extension": ".py",
   "mimetype": "text/x-python",
   "name": "python",
   "nbconvert_exporter": "python",
   "pygments_lexer": "ipython3",
   "version": "3.8.3"
  }
 },
 "nbformat": 4,
 "nbformat_minor": 2
}
